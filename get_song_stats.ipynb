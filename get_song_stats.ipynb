{
 "cells": [
  {
   "cell_type": "code",
   "execution_count": 35,
   "metadata": {},
   "outputs": [],
   "source": [
    "import requests\n",
    "from requests import Session\n",
    "import json\n",
    "import base64\n",
    "import os\n",
    "from typing import Dict, List, Tuple\n",
    "import time\n",
    "import sqlite3\n",
    "from sqlite3 import Connection\n",
    "import pandas as pd\n",
    "from pandas import DataFrame"
   ]
  },
  {
   "attachments": {},
   "cell_type": "markdown",
   "metadata": {},
   "source": [
    "# Download Audio Features\n",
    "\n",
    "This notebook enables you to download data on artists, songs, and audio_features of songs from the public Spotify API. Documentation for the API can be found [here](https://developer.spotify.com/documentation/)."
   ]
  },
  {
   "attachments": {},
   "cell_type": "markdown",
   "metadata": {},
   "source": [
    "#### a) API download and Database Storage Functions"
   ]
  },
  {
   "attachments": {},
   "cell_type": "markdown",
   "metadata": {},
   "source": [
    "We'll start be defining some functions, mainly to process either API requests or SQLite insert statements for the data we request.\n",
    "\n",
    "First, we will define search_artists() so we can get the top artists in each genre recognized by Spotify, which we filtered down based on the genres that were most reflected in our initial test of the API download  (all reflected in spotify_genres.txt)."
   ]
  },
  {
   "cell_type": "code",
   "execution_count": 36,
   "metadata": {},
   "outputs": [],
   "source": [
    "def search_artists(genre: str, limit: int, access_token: str, offset):\n",
    "    # Define the Spotify search URL and query parameters\n",
    "    search_url = 'https://api.spotify.com/v1/search'\n",
    "    params = {\n",
    "        'q': f'genre:\"{genre}\"',\n",
    "        'type': 'artist',\n",
    "        'limit': limit,\n",
    "        'offset': offset\n",
    "    }\n",
    "\n",
    "    # Define the request headers with the access token\n",
    "    headers = {\n",
    "        'Authorization': f'Bearer {access_token}'\n",
    "    }\n",
    "\n",
    "    # Send a GET request to the search URL with the query parameters and headers\n",
    "    response = session.get(search_url, params=params, headers=headers)\n",
    "\n",
    "    if response.status_code == 200:\n",
    "        return response.json()\n",
    "    # If the response status code is 404, print the response text, \n",
    "    # which contains\n",
    "    elif response.status_code == 404 or response.status_code == 401:\n",
    "        requests.exceptions.HTTPError(response.text)\n",
    "    else:\n",
    "        print(response)\n",
    "        raise RuntimeError('Encountered an unexpected error.')"
   ]
  },
  {
   "attachments": {},
   "cell_type": "markdown",
   "metadata": {},
   "source": [
    "With the appropriate artist-level in hand, we'll get the top tracks for each artist. Because of the way the API is structured, we can only get the top ten tracks for each artist."
   ]
  },
  {
   "cell_type": "code",
   "execution_count": 37,
   "metadata": {},
   "outputs": [],
   "source": [
    "def get_artist_top_tracks(artist_id, market, access_token):\n",
    "    # Construct the API endpoint URL for the top tracks of the artist\n",
    "    albums_url = f'https://api.spotify.com/v1/artists/{artist_id}/top-tracks'\n",
    "    \n",
    "    # Create a dictionary of headers containing the access token for authentication\n",
    "    headers = {\n",
    "        'Authorization': f'Bearer {access_token}'\n",
    "    }\n",
    "\n",
    "    params = {\n",
    "        'market': market\n",
    "    }\n",
    "\n",
    "    # Make an HTTP GET request to the API endpoint URL with the headers and parameters\n",
    "    response = session.get(albums_url, headers=headers, params=params)\n",
    "\n",
    "    # If the response status code is 200, return the JSON response body\n",
    "    if response.status_code == 200:\n",
    "        return response.json()\n",
    "    else:\n",
    "        print(response.text)"
   ]
  },
  {
   "cell_type": "markdown",
   "metadata": {},
   "source": [
    "Now we're finally ready to scrape audio features (such as danceability, energy, and valence) from the songs we have Spotify IDs for. \n",
    "\n",
    "We'll start by finding song IDs in the database that don't have audio features downloaded, and then iterate over these song IDs to scrape their audio features using the Spotify API."
   ]
  },
  {
   "cell_type": "markdown",
   "metadata": {},
   "source": [
    "get_audio_features() let's us get a set of audio features for each Spotify ID str we pass to the API. Here are the features we can get back:\n",
    "\n",
    "- acousticness\n",
    "- danceability\n",
    "- duration_ms\n",
    "- energy\n",
    "- instrumentalness\n",
    "- key\n",
    "- liveness\n",
    "- loudness\n",
    "- mode\n",
    "- song_ids_fk\n",
    "- speechiness\n",
    "- tempo\n",
    "- time_signature\n",
    "- valence"
   ]
  },
  {
   "cell_type": "code",
   "execution_count": 38,
   "metadata": {},
   "outputs": [],
   "source": [
    "def get_audio_features(track_id: str, access_token) -> Dict:\n",
    "    # Construct the API endpoint URL for the audio features of the track\n",
    "    api_url = f\"https://api.spotify.com/v1/audio-features/{track_id}\"\n",
    "    headers = {\"Authorization\": f\"Bearer {access_token}\"}\n",
    "\n",
    "    response = session.get(api_url, headers=headers)\n",
    "    if response.status_code == 200:\n",
    "        return response.json()\n",
    "    # If the response status code is 404, print the response text, \n",
    "    # which contains\n",
    "    elif response.status_code == 404 or response.status_code == 401:\n",
    "        requests.exceptions.HTTPError(response.text)\n",
    "    else:\n",
    "        print(track_id)\n",
    "        print(response.text, response.status_code)\n",
    "        raise RuntimeError('Encountered an unexpected error.')"
   ]
  },
  {
   "attachments": {},
   "cell_type": "markdown",
   "metadata": {},
   "source": [
    "Once we get that data, we can store it using the parameterized query in this function."
   ]
  },
  {
   "cell_type": "code",
   "execution_count": 39,
   "metadata": {},
   "outputs": [],
   "source": [
    "def store_audio_features(audio_features: List[Tuple], spotify_song_id: str) -> None:\n",
    "    # Define a list of audio feature names to store in the database\n",
    "    FEATURES_TO_STORE = [\n",
    "                        'acousticness',\n",
    "                        'danceability',\n",
    "                        'duration_ms',\n",
    "                        'energy',\n",
    "                        'instrumentalness',\n",
    "                        'key',\n",
    "                        'liveness',\n",
    "                        'loudness',\n",
    "                        'mode',\n",
    "                        'song_ids_fk',\n",
    "                        'speechiness',\n",
    "                        'tempo',\n",
    "                        'time_signature',\n",
    "                        'valence'\n",
    "                        ]\n",
    "\n",
    "    # Append the Spotify song ID to the list of audio features\n",
    "    audio_features.append(('song_ids_fk', spotify_song_id))\n",
    "\n",
    "    # In-place sorting based on key value\n",
    "    audio_features.sort(key=lambda x: x[0])\n",
    "\n",
    "    # Create a list of one-tuples.\n",
    "    audio_features_filtered: List[Tuple] = []\n",
    "\n",
    "    # Iterate over the audio features and append their values to the filtered list \n",
    "    # if their names are in FEATURES_TO_STORE\n",
    "    for feature in audio_features:\n",
    "        if feature[0] in FEATURES_TO_STORE and feature[0] != 'song_ids_fk':\n",
    "            audio_features_filtered.append(float(feature[1]))\n",
    "        if feature[0] in FEATURES_TO_STORE and feature[0] == 'song_ids_fk':\n",
    "            audio_features_filtered.append(feature[1])\n",
    "\n",
    "    # Use cursor.execute() to execute an INSERT query with the filtered audio feature values\n",
    "    cursor.execute(\"\"\"INSERT INTO audio_features (\n",
    "                        acousticness,\n",
    "                        danceability,\n",
    "                        duration_ms,\n",
    "                        energy,\n",
    "                        instrumentalness,\n",
    "                        key,\n",
    "                        liveness,\n",
    "                        loudness,\n",
    "                        mode,\n",
    "                        song_ids_fk,\n",
    "                        speechiness,\n",
    "                        tempo,\n",
    "                        time_signature,\n",
    "                        valence)\n",
    "                VALUES (?, ?, ?, ?, ?, \n",
    "                        ?, ?, ?, ?, ?, \n",
    "                        ?, ?, ?, ?)\"\"\",\n",
    "                tuple(audio_features_filtered))\n",
    "    conn.commit()"
   ]
  },
  {
   "attachments": {},
   "cell_type": "markdown",
   "metadata": {},
   "source": [
    "As we go, we'll need to download access tokens form the API, which expire hourly. By supplying a client_id and client_secret, we can get new tokens programmatically."
   ]
  },
  {
   "cell_type": "code",
   "execution_count": 40,
   "metadata": {},
   "outputs": [],
   "source": [
    "def request_client_credentials_token(client_id, client_secret) -> str:\n",
    "    url = \"https://accounts.spotify.com/api/token\"\n",
    "\n",
    "    # encode the client ID and secret using base64 encoding\n",
    "    auth_header = base64.b64encode(f\"{client_id}:{client_secret}\" \\\n",
    "                                    .encode(\"ascii\")) \\\n",
    "                                    .decode(\"ascii\")\n",
    "    \n",
    "    # Set up the headers to include the authorization header\n",
    "    headers = {\n",
    "        \"Authorization\": f\"Basic {auth_header}\"\n",
    "    }\n",
    "\n",
    "    # Set up the data to include the grant type\n",
    "    data = {\n",
    "        \"grant_type\": \"client_credentials\"\n",
    "    }\n",
    "\n",
    "    # Make a POST request to the API using the headers and data\n",
    "    response = session.post(url, \n",
    "                            data=data, \n",
    "                            headers=headers)\n",
    "    if response.status_code == 200:\n",
    "        return response.json()['access_token']\n",
    "    else:\n",
    "        raise requests.exceptions.HTTPError(response.text)"
   ]
  },
  {
   "attachments": {},
   "cell_type": "markdown",
   "metadata": {},
   "source": [
    "#### b) Download Data\n",
    "\n",
    "We'll start by opening up a connection to a local SQLite3 file that will allow us to store the data we download in a structured way."
   ]
  },
  {
   "cell_type": "code",
   "execution_count": 41,
   "metadata": {},
   "outputs": [],
   "source": [
    "# Connect to the expanded database.\n",
    "conn = sqlite3.connect('data/song_data_2.0.db')\n",
    "cursor = conn.cursor()"
   ]
  },
  {
   "attachments": {},
   "cell_type": "markdown",
   "metadata": {},
   "source": [
    "We'll also download our client_id and client_secret (generated as part of Spotify API sign-up), which will allow us to generate access tokens.\n",
    "\n",
    "To keep this as safe as possible, these credentials are stored locally as OS environmental variables. You can get your own client id and secret by signing up for the Spotify API and registering an app."
   ]
  },
  {
   "cell_type": "code",
   "execution_count": 42,
   "metadata": {},
   "outputs": [],
   "source": [
    "# Get OS environmental variables.\n",
    "client_id = os.environ.get('CLIENT_ID')\n",
    "client_secret = os.environ.get('CLIENT_SECRET')"
   ]
  },
  {
   "attachments": {},
   "cell_type": "markdown",
   "metadata": {},
   "source": [
    "The following code will let us create or reset the table in our database that will hold our data from Spotify."
   ]
  },
  {
   "cell_type": "code",
   "execution_count": 43,
   "metadata": {},
   "outputs": [],
   "source": [
    "# # Create tables.\n",
    "# cursor.execute(\"DROP TABLE IF EXISTS tracks_top_genres\")\n",
    "# conn.commit()\n",
    "\n",
    "# cursor.execute(\"\"\"CREATE TABLE IF NOT EXISTS tracks_top_genres (\n",
    "#                         id INTEGER PRIMARY KEY,\n",
    "#                         danceability REAL,\n",
    "#                         energy REAL,\n",
    "#                         key REAL,\n",
    "#                         loudness REAL,\n",
    "#                         mode REAL,\n",
    "#                         speechiness REAL,\n",
    "#                         acousticness REAL,\n",
    "#                         instrumentalness REAL,\n",
    "#                         liveness REAL,\n",
    "#                         valence REAL,\n",
    "#                         tempo REAL,\n",
    "#                         duration_ms REAL,\n",
    "#                         time_signature REAL,\n",
    "#                         artist_name TEXT,\n",
    "#                         song_name TEXT,\n",
    "#                         genre TEXT,\n",
    "#                         spotify_track_id TEXT\n",
    "#             )\"\"\")\n",
    "# conn.commit()"
   ]
  },
  {
   "attachments": {},
   "cell_type": "markdown",
   "metadata": {},
   "source": [
    "When we get the top tracks, we'll use the following function to insert it as a parameterized query into our local SQLite database."
   ]
  },
  {
   "cell_type": "code",
   "execution_count": 44,
   "metadata": {},
   "outputs": [],
   "source": [
    "def store_top_tracks(track: Dict, artist_name: str, genre: str, track_name: str) -> None:\n",
    "    try:\n",
    "        # Create a tuple with the required data to insert into the database\n",
    "        to_insert = (track['danceability'],\n",
    "                                track['energy'],\n",
    "                                track['key'],\n",
    "                                track['loudness'],\n",
    "                                track['mode'],\n",
    "                                track['speechiness'],\n",
    "                                track['acousticness'],\n",
    "                                track['instrumentalness'],\n",
    "                                track['liveness'],\n",
    "                                track['valence'],\n",
    "                                track['tempo'],\n",
    "                                track['duration_ms'],\n",
    "                                track['time_signature'],\n",
    "                                artist_name,\n",
    "                                genre,\n",
    "                                track_name,\n",
    "                                track['id'])\n",
    "    # Handle potential TypeError exception\n",
    "    except TypeError as te:\n",
    "        print(track, artist_name, genre, track_name)\n",
    "        print(te)\n",
    "        # Return None to indicate an error occurred\n",
    "        return None\n",
    "    \n",
    "    # Execute the SQL query to insert the data into the database\n",
    "    cursor.execute(\"\"\"INSERT INTO tracks_top_genres (\n",
    "                        danceability,\n",
    "                        energy,\n",
    "                        key,\n",
    "                        loudness,\n",
    "                        mode,\n",
    "                        speechiness,\n",
    "                        acousticness,\n",
    "                        instrumentalness,\n",
    "                        liveness,\n",
    "                        valence,\n",
    "                        tempo,\n",
    "                        duration_ms,\n",
    "                        time_signature,\n",
    "                        artist_name,\n",
    "                        genre,\n",
    "                        song_name,\n",
    "                        spotify_track_id) \n",
    "                        VALUES (?, ?, ?, ?, ?,\n",
    "                                ?, ?, ?, ?, ?,\n",
    "                                ?, ?, ?, ?, ?, ?, ?\n",
    "                        )\"\"\", to_insert)\n",
    "    conn.commit()"
   ]
  },
  {
   "attachments": {},
   "cell_type": "markdown",
   "metadata": {},
   "source": [
    "The Spotify API has a rate limit. Spotify discloses that they rate limit in a rolling 30 second window. By trial and error, the limit seems to be about 150 requests within the window.\n",
    "\n",
    "By instantiating this class and calling its .consult_limiter() method between each API call, we can ensure that we aren't making too many calls and getting locked out."
   ]
  },
  {
   "cell_type": "code",
   "execution_count": 45,
   "metadata": {},
   "outputs": [],
   "source": [
    "class RateLimiter:\n",
    "    def __init__(self, max_calls: int, window: float):\n",
    "        # Initialize the rate limiter with an empty list of calls, maximum calls allowed per window and the window size\n",
    "        self.__calls: List[float] = []\n",
    "        self.__max_per_minute = max_calls\n",
    "        self.__window_size = window\n",
    "\n",
    "    def __pause_program(self) -> None:\n",
    "        # Pause the program if there are any calls in the list\n",
    "        if self.__calls:\n",
    "            time.sleep(time.time() - self.__calls[0])\n",
    "        # Clear the list of calls after the pause\n",
    "        self.__clear_queue()\n",
    "\n",
    "    def __update_calls(self) -> None:\n",
    "        # Add a new call to the list of calls\n",
    "        self.__calls.append(time.time())\n",
    "        self.__clear_queue()\n",
    "\n",
    "    def __clear_queue(self) -> None:\n",
    "        # Remove all calls from the list that are older than the window size\n",
    "        for i, call in enumerate(self.__calls):\n",
    "            if time.time() - call > self.__window_size:\n",
    "                self.__calls.pop(i)\n",
    "            else:\n",
    "                break\n",
    "\n",
    "    def __is_limit_exceeded(self) -> bool:\n",
    "        # Return True if the number of calls in the list is greater than or equal to the maximum calls allowed per window\n",
    "        return len(self.__calls) >= self.__max_per_minute\n",
    "\n",
    "    def consult_limiter(self):\n",
    "        self.__update_calls()\n",
    "        # Pause the program if the limit has been exceeded\n",
    "        if self.__is_limit_exceeded():\n",
    "            self.__pause_program()"
   ]
  },
  {
   "attachments": {},
   "cell_type": "markdown",
   "metadata": {},
   "source": [
    "We'll also create an ErrorLimiter class, which will keep track of the successive errors we encounter. If we encounter too many in a row, we'll close the connection. (Again, to avoid running afoul of the API's policies.)"
   ]
  },
  {
   "cell_type": "code",
   "execution_count": 46,
   "metadata": {},
   "outputs": [],
   "source": [
    "class ErrorLimiter:\n",
    "    def __init__(self, allowed_errors):\n",
    "        # Initialize the error limiter with the number of allowed errors and the remaining errors (which starts at the allowed amount)\n",
    "        self.__allowed_errors = allowed_errors\n",
    "        self.__remaining_errors = allowed_errors\n",
    "\n",
    "    def add_error(self) -> None:\n",
    "        self.__remaining_errors -= 1\n",
    "        # If there are no remaining errors left, raise a runtime error\n",
    "        if self.__remaining_errors <= 0:\n",
    "            raise RuntimeError('Encountered more than the allowable number of errors.')\n",
    "        \n",
    "    def reset_errors(self) -> None:\n",
    "        # Reset the remaining errors to the original allowed amount\n",
    "        self.__remaining_errors = self.__allowed_errors\n"
   ]
  },
  {
   "cell_type": "markdown",
   "metadata": {},
   "source": [
    "The function searches the Spotify API for up to 1000 artists that match the specified genre, using the search_artists() function. It pauses for one second between each API request to avoid being rate-limited by the Spotify API."
   ]
  },
  {
   "cell_type": "code",
   "execution_count": 47,
   "metadata": {},
   "outputs": [],
   "source": [
    "def get_artists_by_genre(genre: str, limiter: RateLimiter, error_checker: ErrorLimiter) -> None:\n",
    "    # Number of artists to search for at a time.\n",
    "    BATCH_SIZE = 50\n",
    "    STARTING_INDEX = 0\n",
    "    TOTAL_TO_GET = 1000\n",
    "\n",
    "    # Get an access token using the client ID and secret\n",
    "    access_token: str = request_client_credentials_token(client_id, client_secret)\n",
    "\n",
    "    # Loop through batches of artists\n",
    "    for offset in range(STARTING_INDEX, TOTAL_TO_GET, BATCH_SIZE):\n",
    "        try:\n",
    "            # Check if the rate limit has been reached before making the API call\n",
    "            limiter.consult_limiter()\n",
    "\n",
    "            # Search for artists in the given genre\n",
    "            artists_batch: List[Dict] = search_artists(genre, \n",
    "                                                    BATCH_SIZE, \n",
    "                                                    access_token,\n",
    "                                                    offset\n",
    "                                                    )['artists']['items']\n",
    "        except requests.exceptions.HTTPError as http_error:\n",
    "            # If there's an HTTP error, print the error and add one to the error count.\n",
    "            print(http_error)\n",
    "            error_checker.add_error()\n",
    "            return None\n",
    "\n",
    "        # Loop through each artist in the batch\n",
    "        for artist in artists_batch:\n",
    "            artist_id = artist['id']\n",
    "            artist_name = artist['name']\n",
    "\n",
    "            try:\n",
    "                # Get top ten tracks\n",
    "                limiter.consult_limiter()\n",
    "                top_tracks: List[Dict] = get_artist_top_tracks(artist_id, \n",
    "                                                                market='US',\n",
    "                                                                access_token=access_token\n",
    "                                                                )['tracks']\n",
    "                # Loop through each track and get its audio features\n",
    "                for track in top_tracks:\n",
    "                    track_name = track['name']\n",
    "                    track_id = track['id']\n",
    "                    limiter.consult_limiter()\n",
    "                    audio_features: Dict = get_audio_features(track_id, access_token)\n",
    "\n",
    "                    # If there are audio features, store the track information\n",
    "                    if audio_features:\n",
    "                        store_top_tracks(audio_features, artist_name, genre, track_name)\n",
    "                    else:\n",
    "                        print('No audio features:', track_name, track_id, genre, artist_name, audio_features)\n",
    "            except requests.exceptions.HTTPError as http_error:\n",
    "                # If there's an HTTP error, print the error and add one to the error count\n",
    "                print(http_error, artist_name, genre)\n",
    "                error_checker.add_error()\n",
    "\n",
    "            except TypeError as te:\n",
    "                # If there's a type error, print the error and add one to the error count\n",
    "                print(te, artist_name, genre)\n",
    "                error_checker.add_error()\n"
   ]
  },
  {
   "cell_type": "code",
   "execution_count": 48,
   "metadata": {},
   "outputs": [],
   "source": [
    "# # Store each line (i.e., each genre) in a list called 'genres'.\n",
    "# genres = []\n",
    "# with open('data/selected_genres.txt', 'rt', encoding='utf-8') as fin:\n",
    "#     for line in fin:\n",
    "#         genres.append(line.strip())\n",
    "\n",
    "# # Connect to the expanded database.\n",
    "# conn = sqlite3.connect('data/song_data_2.0.db')\n",
    "# cursor = conn.cursor()\n",
    "# session = requests.Session()\n",
    "\n",
    "# # Set the maximum calls per minute and window size, and create a rate limiter \n",
    "# # and error checker object\n",
    "# ALLOWED_ERRORS = 3\n",
    "# error_checker = ErrorLimiter(ALLOWED_ERRORS)\n",
    "# MAX_PER_MINUTE = 150\n",
    "# WINDOW_SIZE = 30.0\n",
    "# limiter = RateLimiter(MAX_PER_MINUTE, WINDOW_SIZE)\n",
    "\n",
    "# print('Beginning download:', time.time())\n",
    "\n",
    "# # Set the starting index in the text file\n",
    "# START_FROM = 0\n",
    "\n",
    "# try:\n",
    "#     # Loop through the genres starting from the specified index\n",
    "#     for i, genre in enumerate(genres[START_FROM:]):       \n",
    "#         # Add the starting index to the current index\n",
    "#         i = i + START_FROM\n",
    "#         try:\n",
    "#             # Print a message indicating the genre and index being processed\n",
    "#             print('Getting genre/index:', genre, i)\n",
    "            \n",
    "#             # Call the get_artists_by_genre function with the rate limiter and error checker\n",
    "#             get_artists_by_genre(genre, limiter, error_checker)\n",
    "\n",
    "#             # If success, reset error counter.\n",
    "#             error_checker.reset_errors()\n",
    "\n",
    "#             print('Successfully got:', genre, i)\n",
    "#             print('Time stamp:', time.time())\n",
    "#         except requests.exceptions.HTTPError as http_error:\n",
    "#             print('Failed to get genre/index', genre, i)\n",
    "#             print(http_error)\n",
    "#             error_checker.add_error()\n",
    "\n",
    "# finally:\n",
    "#     session.close()\n",
    "#     conn.close()"
   ]
  },
  {
   "attachments": {},
   "cell_type": "markdown",
   "metadata": {},
   "source": [
    "With our data now downloaded, we will export to a .csv for easier access."
   ]
  },
  {
   "cell_type": "code",
   "execution_count": 49,
   "metadata": {},
   "outputs": [],
   "source": [
    "# Export to CSV.\n",
    "conn = sqlite3.connect('data/song_data_2.0.db')\n",
    "cursor = conn.cursor()\n",
    "\n",
    "query = \"\"\"\n",
    "    SELECT *\n",
    "    FROM tracks_top_genres\n",
    "\"\"\"\n",
    "\n",
    "# Print database rows with audio features as csv.\n",
    "features_df = pd.read_sql(query, conn)\n",
    "features_df.to_csv('data/audio_features_4.0.csv', index=False, encoding='utf-8')"
   ]
  },
  {
   "attachments": {},
   "cell_type": "markdown",
   "metadata": {},
   "source": [
    "# References\n",
    "\n",
    "- https://stackoverflow.com/questions/12737740/python-requests-and-persistent-sessions\n",
    "- https://docs.python.org/3/library/base64.html\n",
    "- https://www.freecodecamp.org/news/python-json-how-to-convert-a-string-to-json/\n"
   ]
  }
 ],
 "metadata": {
  "kernelspec": {
   "display_name": "base",
   "language": "python",
   "name": "python3"
  },
  "language_info": {
   "codemirror_mode": {
    "name": "ipython",
    "version": 3
   },
   "file_extension": ".py",
   "mimetype": "text/x-python",
   "name": "python",
   "nbconvert_exporter": "python",
   "pygments_lexer": "ipython3",
   "version": "3.9.13"
  },
  "orig_nbformat": 4,
  "vscode": {
   "interpreter": {
    "hash": "08dda85ff3eed27e021538f884514942bf23697aea11a618f005da4f18a9508c"
   }
  }
 },
 "nbformat": 4,
 "nbformat_minor": 2
}
