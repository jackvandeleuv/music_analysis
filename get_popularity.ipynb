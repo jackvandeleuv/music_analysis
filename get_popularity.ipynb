{
 "cells": [
  {
   "cell_type": "code",
   "execution_count": 8,
   "metadata": {},
   "outputs": [],
   "source": [
    "import pandas as pd\n",
    "from pandas import DataFrame\n",
    "import sqlite3\n",
    "from sqlite3 import Connection\n",
    "import os\n",
    "import base64\n",
    "import requests\n",
    "from requests.exceptions import HTTPError\n",
    "from requests import Session\n",
    "from typing import List\n",
    "from typing import Tuple"
   ]
  },
  {
   "attachments": {},
   "cell_type": "markdown",
   "metadata": {},
   "source": [
    "# Get popularity\n",
    "\n",
    "The goal of this notebook is to add a column to our existing total_song_data column in the sqlite database with popularity ratings for each track.\n",
    "\n",
    "These ratings are 0-100 based on Spotify's internal scale."
   ]
  },
  {
   "cell_type": "markdown",
   "metadata": {},
   "source": [
    "This file also requires a client secret and client id from Spotify, or a one-time access token from Spotify.\n"
   ]
  },
  {
   "cell_type": "code",
   "execution_count": 9,
   "metadata": {},
   "outputs": [],
   "source": [
    "# Get client id and secret.\n",
    "client_id = os.environ.get('CLIENT_ID')\n",
    "client_secret = os.environ.get('CLIENT_SECRET')"
   ]
  },
  {
   "attachments": {},
   "cell_type": "markdown",
   "metadata": {},
   "source": [
    "This code will let us get an access token, which expires in one hour."
   ]
  },
  {
   "cell_type": "code",
   "execution_count": 10,
   "metadata": {},
   "outputs": [],
   "source": [
    "def request_client_credentials_token(client_id, client_secret, session: Session) -> str:\n",
    "    url = \"https://accounts.spotify.com/api/token\"\n",
    "\n",
    "    # encode using base64 encoding\n",
    "    auth_header = base64.b64encode(f\"{client_id}:{client_secret}\" \\\n",
    "                                    .encode(\"ascii\")) \\\n",
    "                                    .decode(\"ascii\")\n",
    "    headers = {\n",
    "        \"Authorization\": f\"Basic {auth_header}\"\n",
    "    }\n",
    "\n",
    "    # Set up the data to include the grant type\n",
    "    data = {\n",
    "        \"grant_type\": \"client_credentials\"\n",
    "    }\n",
    "    response = session.post(url, \n",
    "                            data=data, \n",
    "                            headers=headers)\n",
    "    if response.status_code == 200:\n",
    "        return response.json()['access_token']\n",
    "    else:\n",
    "        raise requests.exceptions.HTTPError(response.text)"
   ]
  },
  {
   "attachments": {},
   "cell_type": "markdown",
   "metadata": {},
   "source": [
    "This code will get the popularity rankings for 50 songs (this is the batch limit), using the Spotify track ids, which are stored in our database already. It returns a dict with the information for popularity stored under a key called 'popularity'."
   ]
  },
  {
   "cell_type": "code",
   "execution_count": 11,
   "metadata": {},
   "outputs": [],
   "source": [
    "def get_popularity(track_ids: List[str], access_token: str, session: Session) -> dict:\n",
    "    # Set the Authorization header with the access token\n",
    "    headers = {\n",
    "        'Authorization': f'Bearer {access_token}'\n",
    "    }\n",
    "\n",
    "    # Join the track IDs with commas to create the query parameter\n",
    "    track_ids_query_param = ','.join(track_ids)\n",
    "    \n",
    "    # Make a GET request to the Spotify API with the track IDs in the query parameter\n",
    "    response = requests.get(f'https://api.spotify.com/v1/tracks?ids={track_ids_query_param}', \n",
    "                            headers=headers)\n",
    "    \n",
    "    # Raise an HTTPError if the response status code indicates an error\n",
    "    response.raise_for_status() \n",
    "    return response.json()['tracks']\n"
   ]
  },
  {
   "attachments": {},
   "cell_type": "markdown",
   "metadata": {},
   "source": [
    "Once we have the data, we can insert it using this function, which uses a sqlite3 insert statement."
   ]
  },
  {
   "cell_type": "code",
   "execution_count": 12,
   "metadata": {},
   "outputs": [],
   "source": [
    "def insert_popularity(conn: Connection, pops_and_ids: List[Tuple]) -> None:\n",
    "    cur = conn.cursor()\n",
    "    \n",
    "    # Execute an update query for each tuple in the input list, setting the popularity \n",
    "    # column to the first value and the Spotify track ID to the second value\n",
    "    cur.executemany(\"\"\"\n",
    "        UPDATE tracks_top_genres\n",
    "        SET popularity = ?\n",
    "        WHERE spotify_track_id = ?\n",
    "    \"\"\", pops_and_ids)\n",
    "\n",
    "    # Commit the changes to the database\n",
    "    conn.commit()"
   ]
  },
  {
   "attachments": {},
   "cell_type": "markdown",
   "metadata": {},
   "source": [
    "This next cell creates the additional column. We only need to run it once, and can leave it commented out for now."
   ]
  },
  {
   "cell_type": "code",
   "execution_count": 13,
   "metadata": {},
   "outputs": [],
   "source": [
    "# # Add new column for popularity.\n",
    "# conn = sqlite3.Connection('data/song_data_2.0.db')\n",
    "# cur = conn.cursor()\n",
    "# cur.execute(\"\"\"\n",
    "# ALTER TABLE tracks_top_genres\n",
    "# ADD COLUMN popularity REAL\n",
    "# \"\"\")\n",
    "# conn.commit()"
   ]
  },
  {
   "attachments": {},
   "cell_type": "markdown",
   "metadata": {},
   "source": [
    "Finally, we can use the previous functions to request popularity for each song using its id, in batches of 50, which is the max allowed. \n",
    "\n",
    "At the beginning, we will select the ids from our database that haven't got a matching popularity score yet, and load those ids into memory."
   ]
  },
  {
   "cell_type": "code",
   "execution_count": 14,
   "metadata": {},
   "outputs": [
    {
     "name": "stdout",
     "output_type": "stream",
     "text": [
      "Done reordering. Len ids: 713014\n"
     ]
    }
   ],
   "source": [
    "for i in range(5):\n",
    "    try:\n",
    "        conn = sqlite3.Connection('data/song_data_2.0.db')\n",
    "\n",
    "        # Select all Spotify track IDs with a null popularity value\n",
    "        ids = pd.read_sql(\"\"\"SELECT spotify_track_id \n",
    "                                FROM tracks_top_genres \n",
    "                                WHERE popularity IS NULL\n",
    "                                ORDER BY RANDOM()\"\"\", \n",
    "                                conn)\n",
    "\n",
    "        print('Done reordering. Len ids:', len(ids))\n",
    "\n",
    "        # Create a session object and request an access token\n",
    "        session = requests.Session()\n",
    "        access_token: str = request_client_credentials_token(client_id, \n",
    "                                                            client_secret, \n",
    "                                                            session)\n",
    "\n",
    "        # Loop through the IDs in groups of 50 and get their popularity values\n",
    "        for i in range(0, len(ids), 50):\n",
    "            # Get the current group of IDs as a list\n",
    "            id_group: List[str] = ids[i : i + 50].spotify_track_id.tolist()\n",
    "\n",
    "            # Get the popularity values for the current group of IDs\n",
    "            popularity_group: List[dict] = get_popularity(id_group, access_token, session)\n",
    "            \n",
    "            # Unpack the popularity values from the response dics and create a list\n",
    "            popularity_unpacked: List[int] = [x['popularity'] for x in popularity_group]\n",
    "\n",
    "            # Raise an error if the length of the ID group and popularity values don't match\n",
    "            if len(id_group) != len(popularity_unpacked):\n",
    "                raise RuntimeError(\"Len of IDs sent and popularity received don't match.\")\n",
    "            \n",
    "            # Insert the popularity values into the database for the current group of IDs\n",
    "            insert_popularity(conn, list(zip(popularity_unpacked, id_group)))\n",
    "\n",
    "        session.close()\n",
    "        conn.close()\n",
    "    except TypeError as te:\n",
    "        print(te)\n",
    "    except HTTPError as he:\n",
    "        print(he)"
   ]
  },
  {
   "cell_type": "code",
   "execution_count": null,
   "metadata": {},
   "outputs": [
    {
     "data": {
      "text/html": [
       "<div>\n",
       "<style scoped>\n",
       "    .dataframe tbody tr th:only-of-type {\n",
       "        vertical-align: middle;\n",
       "    }\n",
       "\n",
       "    .dataframe tbody tr th {\n",
       "        vertical-align: top;\n",
       "    }\n",
       "\n",
       "    .dataframe thead th {\n",
       "        text-align: right;\n",
       "    }\n",
       "</style>\n",
       "<table border=\"1\" class=\"dataframe\">\n",
       "  <thead>\n",
       "    <tr style=\"text-align: right;\">\n",
       "      <th></th>\n",
       "      <th>COUNT(*)</th>\n",
       "    </tr>\n",
       "  </thead>\n",
       "  <tbody>\n",
       "    <tr>\n",
       "      <th>0</th>\n",
       "      <td>127400</td>\n",
       "    </tr>\n",
       "  </tbody>\n",
       "</table>\n",
       "</div>"
      ],
      "text/plain": [
       "   COUNT(*)\n",
       "0    127400"
      ]
     },
     "execution_count": 11,
     "metadata": {},
     "output_type": "execute_result"
    }
   ],
   "source": [
    "conn = sqlite3.Connection('data/song_data_2.0.db')\n",
    "pd.read_sql('SELECT COUNT(*) FROM tracks_top_genres WHERE popularity IS NOT NULL LIMIT 1', conn)"
   ]
  },
  {
   "attachments": {},
   "cell_type": "markdown",
   "metadata": {},
   "source": [
    "References\n",
    "\n",
    "- https://docs.python.org/3/library/os.html\n",
    "- https://docs.python.org/3/library/base64.html\n",
    "- https://developer.spotify.com/documentation/web-playback-sdk\n"
   ]
  }
 ],
 "metadata": {
  "kernelspec": {
   "display_name": "base",
   "language": "python",
   "name": "python3"
  },
  "language_info": {
   "codemirror_mode": {
    "name": "ipython",
    "version": 3
   },
   "file_extension": ".py",
   "mimetype": "text/x-python",
   "name": "python",
   "nbconvert_exporter": "python",
   "pygments_lexer": "ipython3",
   "version": "3.9.13"
  },
  "orig_nbformat": 4
 },
 "nbformat": 4,
 "nbformat_minor": 2
}
