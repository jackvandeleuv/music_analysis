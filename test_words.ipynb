{
 "cells": [
  {
   "cell_type": "code",
   "execution_count": 1,
   "metadata": {},
   "outputs": [],
   "source": [
    "import pandas as pd\n",
    "from sklearn.feature_extraction.text import TfidfVectorizer\n",
    "import pandas as pd\n",
    "from sklearn.cluster import KMeans\n",
    "from sklearn.neighbors import KNeighborsClassifier\n",
    "from sklearn.model_selection import train_test_split\n",
    "from sklearn.model_selection import GridSearchCV\n",
    "from sklearn.preprocessing import RobustScaler\n",
    "from sklearn.preprocessing import StandardScaler\n",
    "from sklearn.preprocessing import MinMaxScaler\n",
    "from sklearn.preprocessing import MaxAbsScaler\n",
    "from sklearn.metrics import silhouette_score\n",
    "from sklearn.ensemble import RandomForestClassifier\n",
    "from sklearn.preprocessing import OneHotEncoder\n",
    "from sklearn.preprocessing import LabelEncoder\n",
    "from sklearn.preprocessing import LabelBinarizer\n",
    "from sklearn.pipeline import Pipeline\n",
    "from typing import List\n",
    "import matplotlib.pyplot as plt\n",
    "import seaborn as sns"
   ]
  },
  {
   "cell_type": "code",
   "execution_count": 2,
   "metadata": {},
   "outputs": [],
   "source": [
    "df = pd.read_csv('data/audio_features_4.0_clean.csv')\n",
    "df = df.drop(['popularity'], axis=1)"
   ]
  },
  {
   "cell_type": "code",
   "execution_count": 3,
   "metadata": {},
   "outputs": [],
   "source": [
    "# Fill missing values in the 'text1' and 'text2' columns with a placeholder string\n",
    "df['artist_name'] = df['artist_name'].fillna('missing_text')\n",
    "df['song_name'] = df['song_name'].fillna('missing_text')"
   ]
  },
  {
   "cell_type": "code",
   "execution_count": 4,
   "metadata": {},
   "outputs": [],
   "source": [
    "vectorizer1 = TfidfVectorizer(max_features=500)\n",
    "vectorizer2 = TfidfVectorizer(max_features=500)"
   ]
  },
  {
   "cell_type": "code",
   "execution_count": 5,
   "metadata": {},
   "outputs": [],
   "source": [
    "text1_tfidf = vectorizer1.fit_transform(df['song_name'])\n",
    "text2_tfidf = vectorizer2.fit_transform(df['artist_name'])"
   ]
  },
  {
   "cell_type": "code",
   "execution_count": 6,
   "metadata": {},
   "outputs": [],
   "source": [
    "text1_tfidf_df = pd.DataFrame(text1_tfidf.toarray(), columns=vectorizer1.get_feature_names_out())\n",
    "text2_tfidf_df = pd.DataFrame(text2_tfidf.toarray(), columns=vectorizer2.get_feature_names_out())\n",
    "\n",
    "# Add prefix to the columns to identify them easily\n",
    "text1_tfidf_df.columns = ['text1_' + col for col in text1_tfidf_df.columns]\n",
    "text2_tfidf_df.columns = ['text2_' + col for col in text2_tfidf_df.columns]\n",
    "\n",
    "# Concatenate the original DataFrame with the new TF-IDF features\n",
    "df_extended = pd.concat([df, text1_tfidf_df, text2_tfidf_df], axis=1)\n"
   ]
  },
  {
   "cell_type": "code",
   "execution_count": 7,
   "metadata": {},
   "outputs": [],
   "source": [
    "X = df.drop(['genre', \n",
    "'artist_name',\n",
    "'song_name',\n",
    "                 'spotify_track_id'], axis=1)\n",
    "y = df.genre\n",
    "\n",
    "X_train, X_test, y_train, y_test = train_test_split(X, y, test_size=.2, random_state=538)\n",
    "\n",
    "pipe = Pipeline([\n",
    "    ('scaler', RobustScaler()),\n",
    "    ('classifier', KNeighborsClassifier())\n",
    "    ]).fit(X_train, y_train)"
   ]
  },
  {
   "cell_type": "code",
   "execution_count": 34,
   "metadata": {},
   "outputs": [
    {
     "name": "stdout",
     "output_type": "stream",
     "text": [
      "       danceability  energy  key  loudness  mode  speechiness  acousticness  \\\n",
      "55037         0.373   0.895  2.0    -7.169   0.0       0.0889      0.000019   \n",
      "\n",
      "       instrumentalness  liveness  valence    tempo  duration_ms  \\\n",
      "55037             0.854     0.145    0.197  158.009     197365.0   \n",
      "\n",
      "       time_signature artist_name        song_name        genre  \\\n",
      "55037             4.0   Whispered  Boomer Kuwanger  Death Metal   \n",
      "\n",
      "             spotify_track_id  \n",
      "55037  5xpHAqKjoX5IMFW1aVBfA7  \n",
      "Sample 1:\n",
      "Predicted probabilities: [0.  0.  0.  0.  0.  0.  0.  0.  0.  0.  0.  0.  0.  0.  0.  0.  0.  0.\n",
      " 0.  0.  0.  0.  0.  0.  0.  0.  0.  0.  0.  0.  0.  0.  0.  0.  0.  0.2\n",
      " 0.  0.  0.  0.  0.2 0.  0.  0.  0.  0.  0.  0.  0.  0.  0.  0.  0.  0.\n",
      " 0.  0.  0.  0.  0.  0.  0.  0.  0.  0.  0.  0.  0.  0.  0.  0.  0.  0.\n",
      " 0.  0.  0.  0.  0.  0.  0.  0.  0.  0.  0.  0.2 0.  0.  0.  0.  0.  0.\n",
      " 0.  0.  0.  0.  0.  0.  0.  0.  0.  0.  0.  0.  0.  0.  0.  0.2 0.  0.\n",
      " 0.  0.  0.  0.  0.  0.  0.  0.  0.  0.  0.2 0.  0.  0.  0.  0.  0.  0.\n",
      " 0.  0.  0.  0.  0.  0. ]\n",
      "Top predicted class: Progressive Metal\n",
      "Runner-up class: Dubstep\n",
      "Third-ranked class: Melodic Death Metal\n",
      "\n"
     ]
    }
   ],
   "source": [
    "import numpy as np\n",
    "\n",
    "sample = df.sample()\n",
    "sample_drop = sample.drop([\n",
    "            'spotify_track_id',\n",
    "            'artist_name',\n",
    "            'song_name',\n",
    "            'genre'\n",
    "            ], axis=1)\n",
    "\n",
    "# Get the predicted probabilities (assuming you've already run pipe.predict_proba(sample))\n",
    "proba_array = pipe.predict_proba(sample_drop)\n",
    "\n",
    "# Get the class labels from the classifier (assuming it's the last step in your pipeline)\n",
    "class_labels = pipe.named_steps['classifier'].classes_\n",
    "\n",
    "# Find the indices of the top 3 probabilities in each row\n",
    "top3_proba_indices = np.argsort(proba_array, axis=1)[:, -3:]\n",
    "\n",
    "# Reverse the order to have the highest probability first\n",
    "top3_proba_indices = np.fliplr(top3_proba_indices)\n",
    "\n",
    "# Get the corresponding class labels\n",
    "predicted_top3_classes = class_labels[top3_proba_indices]\n",
    "\n",
    "# Print the results\n",
    "for i, (proba, top_classes) in enumerate(zip(proba_array, predicted_top3_classes)):\n",
    "    top_class, runner_up_class, third_class = top_classes\n",
    "    print(sample)\n",
    "    print(f\"Sample {i+1}:\")\n",
    "    print(f\"Predicted probabilities: {proba}\")\n",
    "    print(f\"Top predicted class: {top_class}\")\n",
    "    print(f\"Runner-up class: {runner_up_class}\")\n",
    "    print(f\"Third-ranked class: {third_class}\")\n",
    "    print()\n",
    "\n"
   ]
  }
 ],
 "metadata": {
  "kernelspec": {
   "display_name": "base",
   "language": "python",
   "name": "python3"
  },
  "language_info": {
   "codemirror_mode": {
    "name": "ipython",
    "version": 3
   },
   "file_extension": ".py",
   "mimetype": "text/x-python",
   "name": "python",
   "nbconvert_exporter": "python",
   "pygments_lexer": "ipython3",
   "version": "3.9.13"
  },
  "orig_nbformat": 4
 },
 "nbformat": 4,
 "nbformat_minor": 2
}
